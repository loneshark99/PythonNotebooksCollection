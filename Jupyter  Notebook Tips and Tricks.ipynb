{
 "cells": [
  {
   "cell_type": "markdown",
   "metadata": {},
   "source": [
    "# Catelog of Jupyter Notebook tips and tricks."
   ]
  },
  {
   "cell_type": "markdown",
   "metadata": {},
   "source": [
    "Jupyter provides a nice way to do some additional processing on the results obtained by exectuing the underlying operating system functions. It provides a programatic access to the StdOut and StdError.\n",
    "\n",
    "As you can see the result type is IPython.utils.text.SList. The results are expressed as a "
   ]
  },
  {
   "cell_type": "code",
   "execution_count": 28,
   "metadata": {},
   "outputs": [
    {
     "name": "stdout",
     "output_type": "stream",
     "text": [
      "<class 'IPython.utils.text.SList'>\n"
     ]
    },
    {
     "data": {
      "text/plain": [
       "[' Volume in drive C has no label.',\n",
       " ' Volume Serial Number is 444E-0BFF',\n",
       " '',\n",
       " ' Directory of C:\\\\Users\\\\superuser\\\\Documents',\n",
       " '',\n",
       " '04/12/2021  01:37 PM    <DIR>          .',\n",
       " '04/12/2021  01:37 PM    <DIR>          ..',\n",
       " '04/12/2021  10:43 AM    <DIR>          .ipynb_checkpoints',\n",
       " '02/27/2021  08:46 PM    <DIR>          Apowersoft',\n",
       " '11/25/2020  10:14 PM    <DIR>          Fiddler2',\n",
       " '08/03/2020  12:10 PM    <DIR>          IISExpress',\n",
       " '10/30/2020  08:23 PM    <DIR>          LINQPad Queries',\n",
       " '08/03/2020  12:10 PM    <DIR>          My Web Sites',\n",
       " '12/05/2020  03:43 PM         1,596,755 SynKernelDiag2020-12-05_14-43-56.log',\n",
       " '12/05/2020  03:43 PM         1,115,796 SynKernelDiag2020-12-05_14-43-58.log',\n",
       " '12/05/2020  03:43 PM         1,115,796 SynKernelDiag2020-12-05_14-43-59.log',\n",
       " '12/05/2020  03:44 PM         1,120,082 SynKernelDiag2020-12-05_14-44-03.log',\n",
       " '12/05/2020  03:44 PM         1,117,940 SynKernelDiag2020-12-05_14-44-24.log',\n",
       " '12/05/2020  03:45 PM         1,117,940 SynKernelDiag2020-12-05_14-45-10.log',\n",
       " '01/28/2021  05:40 PM         1,768,507 SynKernelDiag2021-01-28_16-40-53.log',\n",
       " '03/07/2021  06:52 PM    <DIR>          TurboTax',\n",
       " '04/12/2021  01:37 PM             3,476 Untitled.ipynb',\n",
       " '10/23/2020  07:46 PM    <DIR>          Visual Studio 2019',\n",
       " '03/28/2021  07:50 PM    <DIR>          WindowsPowerShell',\n",
       " '               8 File(s)      8,956,292 bytes',\n",
       " '              11 Dir(s)   3,922,989,056 bytes free']"
      ]
     },
     "execution_count": 28,
     "metadata": {},
     "output_type": "execute_result"
    }
   ],
   "source": [
    "result = !dir\n",
    "print(type(result))\n",
    "result"
   ]
  },
  {
   "cell_type": "markdown",
   "metadata": {},
   "source": [
    "### You can even grep the results directly."
   ]
  },
  {
   "cell_type": "code",
   "execution_count": 54,
   "metadata": {},
   "outputs": [
    {
     "data": {
      "text/plain": [
       "['12/05/2020  03:43 PM         1,596,755 SynKernelDiag2020-12-05_14-43-56.log',\n",
       " '12/05/2020  03:43 PM         1,115,796 SynKernelDiag2020-12-05_14-43-58.log',\n",
       " '12/05/2020  03:43 PM         1,115,796 SynKernelDiag2020-12-05_14-43-59.log',\n",
       " '12/05/2020  03:44 PM         1,120,082 SynKernelDiag2020-12-05_14-44-03.log',\n",
       " '12/05/2020  03:44 PM         1,117,940 SynKernelDiag2020-12-05_14-44-24.log',\n",
       " '12/05/2020  03:45 PM         1,117,940 SynKernelDiag2020-12-05_14-45-10.log',\n",
       " '01/28/2021  05:40 PM         1,768,507 SynKernelDiag2021-01-28_16-40-53.log']"
      ]
     },
     "execution_count": 54,
     "metadata": {},
     "output_type": "execute_result"
    }
   ],
   "source": [
    "logFiles=result.grep(\".log\")\n",
    "logFiles"
   ]
  },
  {
   "cell_type": "code",
   "execution_count": 53,
   "metadata": {},
   "outputs": [],
   "source": [
    "fileNames = [file.split()[4] for file in logFiles]"
   ]
  },
  {
   "cell_type": "markdown",
   "metadata": {},
   "source": [
    "SList of lot of useful properties and functions that you can use like\n",
    "\n",
    "1. fields\n",
    "2. grep\n",
    "3. n"
   ]
  }
 ],
 "metadata": {
  "kernelspec": {
   "display_name": "Python 3",
   "language": "python",
   "name": "python3"
  },
  "language_info": {
   "codemirror_mode": {
    "name": "ipython",
    "version": 3
   },
   "file_extension": ".py",
   "mimetype": "text/x-python",
   "name": "python",
   "nbconvert_exporter": "python",
   "pygments_lexer": "ipython3",
   "version": "3.8.3"
  }
 },
 "nbformat": 4,
 "nbformat_minor": 4
}
